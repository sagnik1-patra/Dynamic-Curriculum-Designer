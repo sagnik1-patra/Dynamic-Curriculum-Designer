{
 "cells": [
  {
   "cell_type": "code",
   "execution_count": 1,
   "id": "686d79dc-1324-4b4a-89c8-500fe17d473a",
   "metadata": {},
   "outputs": [
    {
     "name": "stdout",
     "output_type": "stream",
     "text": [
      "[INFO] Wrote gradio_app.py. Run it with:  python gradio_app.py\n"
     ]
    }
   ],
   "source": [
    "# =========================\n",
    "# Write a Gradio UI app to disk (optional)\n",
    "# -> C:\\Users\\sagni\\Downloads\\Dynamic Curriculum Designer\\gradio_app.py\n",
    "# Run:  python gradio_app.py\n",
    "# =========================\n",
    "import os, textwrap, pickle, json\n",
    "OUTPUT_DIR = r\"C:\\Users\\sagni\\Downloads\\Dynamic Curriculum Designer\"\n",
    "os.makedirs(OUTPUT_DIR, exist_ok=True)\n",
    "\n",
    "app = r'''\n",
    "import os, pickle, json, numpy as np, pandas as pd, tensorflow as tf, gradio as gr\n",
    "\n",
    "BASE = r\"C:\\Users\\sagni\\Downloads\\Dynamic Curriculum Designer\"\n",
    "\n",
    "with open(os.path.join(BASE, \"preprocessor.pkl\"), \"rb\") as f:\n",
    "    preproc = pickle.load(f)\n",
    "with open(os.path.join(BASE, \"label_encoder.pkl\"), \"rb\") as f:\n",
    "    lab = pickle.load(f)\n",
    "\n",
    "# columns and categories\n",
    "cat_cols = list(preproc.transformers_[0][2])\n",
    "num_cols = list(preproc.transformers_[1][2])\n",
    "ohe = preproc.transformers_[0][1]\n",
    "cat_choices = {c: list(ohe.categories_[i]) for i, c in enumerate(cat_cols)}\n",
    "\n",
    "# load model\n",
    "try:\n",
    "    model = tf.keras.models.load_model(os.path.join(BASE, \"model.keras\"))\n",
    "except Exception:\n",
    "    model = tf.keras.models.load_model(os.path.join(BASE, \"model.h5\"))\n",
    "\n",
    "# threshold\n",
    "thr = 0.5\n",
    "try:\n",
    "    with open(os.path.join(BASE, \"threshold.json\"), \"r\", encoding=\"utf-8\") as f:\n",
    "        thr = float(json.load(f).get(\"best_threshold\", 0.5))\n",
    "except Exception:\n",
    "    pass\n",
    "\n",
    "def predict_ui(*vals):\n",
    "    cat_vals = vals[:len(cat_cols)]\n",
    "    num_vals = vals[len(cat_cols):]\n",
    "    payload = {c: v for c, v in zip(cat_cols, cat_vals)}\n",
    "    payload.update({c: v for c, v in zip(num_cols, num_vals)})\n",
    "    # build row\n",
    "    expected = cat_cols + num_cols\n",
    "    import pandas as pd, numpy as np\n",
    "    row = {col: payload.get(col, np.nan) for col in expected}\n",
    "    X_new = pd.DataFrame([row], columns=expected)\n",
    "    X_proc = preproc.transform(X_new)\n",
    "    prob = float(model.predict(X_proc).ravel()[0])\n",
    "    pred = int(prob >= thr)\n",
    "    label = lab.inverse_transform([pred])[0]\n",
    "    return f\"Predicted: {label} | Probability(pass): {prob:.3f} | Threshold: {thr:.2f}\"\n",
    "\n",
    "inputs = []\n",
    "for c in cat_cols:\n",
    "    opts = cat_choices.get(c, [])\n",
    "    inputs.append(gr.Dropdown(choices=opts, value=opts[0] if opts else None, label=c))\n",
    "for c in num_cols:\n",
    "    inputs.append(gr.Number(label=c))\n",
    "\n",
    "demo = gr.Interface(\n",
    "    fn=predict_ui,\n",
    "    inputs=inputs,\n",
    "    outputs=gr.Textbox(label=\"Output\"),\n",
    "    title=\"Student Pass/Fail Predictor\",\n",
    "    description=\"Select categorical values and enter numeric features. Uses saved preprocessor + model.\"\n",
    ")\n",
    "demo.launch()\n",
    "'''\n",
    "with open(os.path.join(OUTPUT_DIR, \"gradio_app.py\"), \"w\", encoding=\"utf-8\") as f:\n",
    "    f.write(app)\n",
    "print(\"[INFO] Wrote gradio_app.py. Run it with:  python gradio_app.py\")\n"
   ]
  },
  {
   "cell_type": "code",
   "execution_count": null,
   "id": "bc79dfa1-60cf-48a0-90d9-445b367ebd36",
   "metadata": {},
   "outputs": [],
   "source": []
  }
 ],
 "metadata": {
  "kernelspec": {
   "display_name": "Python 3.11 (moviepy)",
   "language": "python",
   "name": "py311"
  },
  "language_info": {
   "codemirror_mode": {
    "name": "ipython",
    "version": 3
   },
   "file_extension": ".py",
   "mimetype": "text/x-python",
   "name": "python",
   "nbconvert_exporter": "python",
   "pygments_lexer": "ipython3",
   "version": "3.11.9"
  }
 },
 "nbformat": 4,
 "nbformat_minor": 5
}
